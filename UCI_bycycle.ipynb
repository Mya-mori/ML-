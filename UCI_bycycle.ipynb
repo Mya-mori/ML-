#データの読み込み
import pandas as pd
#parse_dates [1]の列を日付として取り込む
df = pd.read_csv("drive/My Drive/data/Bike_Sharing/day.csv", parse_dates=[1])

###前処理###

#データ属性の確認
print(df.dtypes)
#データフレームの加工
df = df.drop("instant", axis=1)

#度数分布表
from pylab import rcParams
import matplotlib.pyplot as plt
rcParams["figure.figsize"] = (12, 12)

df.hist(bins=20)
plt.show()

#欠損値の確認
df.isnull().sum()

#時系列データの表示
plt.figure(figsize=(16, 8))
plt.plot(df["dteday"], df["cnt"], c="b")

plt.grid()
plt.title("number of users")

plt.show()

#入力データと正解データの分析
x = df.drop(["dteday", "casual", "registered", "cnt"], axis=1)
y = df["registered"].values

#分割日
mday = pd.to_datetime("2012-11-1") 

#訓練と検証で分ける
train_index = df["dteday"] < mday
test_index = df["dteday"] >= mday

#入力データの分割
x_train = x[train_index]
x_test = x[test_index]

y_train = y[train_index]
y_test = y[test_index]
#日付データの分割
dates_test = df["dteday"][test_index]

#結果の確認
print("分割後の確認")
print(x_train.shape)
print(x_test.shape)

display(x_train)
display(x_test)

###アルゴリズムの選択###
from xgboost import XGBRegressor
alg = XGBRegressor(objective="reg:squarederror")

###学習・予測###
alg.fit(x_train, y_train)
pred = alg.predict(x_test)

###評価###
score = alg.score(x_test, y_test)

from sklearn.metrics import r2_score
r2_score = r2_score(y_test, pred)

print(f"score:{score:.4f}, r2_score:{r2_score:.4f}")
"""
回帰モデルのscoreはR2を利用している確認
"""

#散布図によるデータ比較
plt.figure(figsize=(6,6))
y_max = y_test.max()
plt.plot((0, y_max), (0, y_max), c="r")
plt.scatter(y_test, pred, c="b")
plt.title("正解データと予測データの散布図")
plt.grid()
plt.show()

#時系列グラフの表示
#登録ユーザーの推移
import matplotlib.dates as mdates
fig, ax = plt.subplots(figsize=(8,4))

ax.plot(dates_test, y_test, label="正解データ", c="r")
ax.plot(dates_test, pred, label="予測データ", c="b")

#木曜日ごとに日付を表示
weeks = mdates.WeekdayLocator(byweekday=mdates.TH)
ax.xaxis.set_major_locator(weeks)

#日付表示を90回転
ax.tick_params(axis="x", rotation=90)
plt.show()

#重要度分析
import xgboost as xgb
fig, ax = plt.subplots(figsize=(8, 4))
xgb.plot_importance(alg, ax=ax, height=1,
                    importance_type="gain", show_values=False, 
                    title="重要度分析")
plt.show()

###より良い精度を求める
def enc(df, column):
   df_dummy = pd.get_dummies(df[column], prefix=column)
   df = pd.concat([df.drop([column], axis=1), df_dummy], axis=1)
   return df

####月と季節をOne-Hotコーディング
print("------------------------------------------------")
x2 = x.copy()
x2 = enc(x2, "mnth")
x2 = enc(x2, "season")

display(x2.head())

#上と同じ方法で精度検証
x_train = x2[train_index]
x_test = x2[test_index]

y_train = y[train_index]
y_test = y[test_index]
dates_test = df["dteday"][test_index]

print("分割後の確認")
print(x_train.shape)
print(x_test.shape)

display(x_train)
display(x_test)

from xgboost import XGBRegressor
alg = XGBRegressor(objective="reg:squarederror")
alg.fit(x_train, y_train)
pred = alg.predict(x_test)

score = alg.score(x_test, y_test)
from sklearn.metrics import r2_score
r2_score = r2_score(y_test, pred)

print(f"score:{score:.4f}, r2_score:{r2_score:.4f}")

plt.figure(figsize=(6,6))
y_max = y_test.max()
plt.plot((0, y_max), (0, y_max), c="r")
plt.scatter(y_test, pred, c="b")
plt.title("正解データと予測データの散布図")
plt.grid()
plt.show()

import matplotlib.dates as mdates
fig, ax = plt.subplots(figsize=(8,4))

ax.plot(dates_test, y_test, label="正解データ", c="r")
ax.plot(dates_test, pred, label="予測データ", c="b")

weeks = mdates.WeekdayLocator(byweekday=mdates.TH)
ax.xaxis.set_major_locator(weeks)

ax.tick_params(axis="x", rotation=90)
plt.show()
